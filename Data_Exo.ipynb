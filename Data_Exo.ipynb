{
 "cells": [
  {
   "cell_type": "markdown",
   "metadata": {},
   "source": [
    "# Data preparation\n",
    "prepare the dataFrame to use in next two section (question 1 and 2)"
   ]
  },
  {
   "cell_type": "code",
   "execution_count": 83,
   "metadata": {},
   "outputs": [],
   "source": [
    "import pandas as pd\n",
    "import numpy as np\n",
    "import warnings\n",
    "warnings.filterwarnings(\"ignore\")"
   ]
  },
  {
   "cell_type": "code",
   "execution_count": 84,
   "metadata": {},
   "outputs": [],
   "source": [
    "# read the data stored in csv files\n",
    "tickets = pd.read_csv(\"data/ticket_data.csv\")\n",
    "cities = pd.read_csv(\"data/cities.csv\")\n",
    "providers = pd.read_csv(\"data/providers.csv\")\n",
    "stations = pd.read_csv(\"data/stations.csv\")"
   ]
  },
  {
   "cell_type": "markdown",
   "metadata": {},
   "source": [
    "## Merging \n",
    "in this subpart we merge all tables we have in one data frame"
   ]
  },
  {
   "cell_type": "markdown",
   "metadata": {},
   "source": [
    "##### 1- providers\n",
    "here we merge tickets and providers (based on company id in both sides)\n",
    "\n",
    "i- add suffixes to providers columns\n",
    "\n",
    "ii- merge the result with cities => result dataframe with informations about tickets & companies"
   ]
  },
  {
   "cell_type": "code",
   "execution_count": 85,
   "metadata": {},
   "outputs": [],
   "source": [
    "# add suffix to all columns of providers \n",
    "# because the attribute suffix of the merge function used just in case of overlapping\n",
    "providers.columns = providers.columns.map(lambda x: str(x) + '_PVD')"
   ]
  },
  {
   "cell_type": "code",
   "execution_count": 86,
   "metadata": {},
   "outputs": [
    {
     "data": {
      "text/plain": [
       "Index(['id_PVD', 'company_id_PVD', 'provider_id_PVD', 'name_PVD',\n",
       "       'fullname_PVD', 'has_wifi_PVD', 'has_plug_PVD',\n",
       "       'has_adjustable_seats_PVD', 'has_bicycle_PVD', 'transport_type_PVD'],\n",
       "      dtype='object')"
      ]
     },
     "execution_count": 86,
     "metadata": {},
     "output_type": "execute_result"
    }
   ],
   "source": [
    "providers.columns"
   ]
  },
  {
   "cell_type": "code",
   "execution_count": 87,
   "metadata": {},
   "outputs": [],
   "source": [
    "#join tickets with providers to have informations about the provider type name ...\n",
    "data_0 = tickets.merge(providers,how='left',left_on='company', right_on='company_id_PVD', suffixes=('','_PVD'))"
   ]
  },
  {
   "cell_type": "code",
   "execution_count": 88,
   "metadata": {},
   "outputs": [
    {
     "data": {
      "text/html": [
       "<div>\n",
       "<style scoped>\n",
       "    .dataframe tbody tr th:only-of-type {\n",
       "        vertical-align: middle;\n",
       "    }\n",
       "\n",
       "    .dataframe tbody tr th {\n",
       "        vertical-align: top;\n",
       "    }\n",
       "\n",
       "    .dataframe thead th {\n",
       "        text-align: right;\n",
       "    }\n",
       "</style>\n",
       "<table border=\"1\" class=\"dataframe\">\n",
       "  <thead>\n",
       "    <tr style=\"text-align: right;\">\n",
       "      <th></th>\n",
       "      <th>id</th>\n",
       "      <th>company</th>\n",
       "      <th>o_station</th>\n",
       "      <th>d_station</th>\n",
       "      <th>departure_ts</th>\n",
       "      <th>arrival_ts</th>\n",
       "      <th>price_in_cents</th>\n",
       "      <th>search_ts</th>\n",
       "      <th>middle_stations</th>\n",
       "      <th>other_companies</th>\n",
       "      <th>...</th>\n",
       "      <th>id_PVD</th>\n",
       "      <th>company_id_PVD</th>\n",
       "      <th>provider_id_PVD</th>\n",
       "      <th>name_PVD</th>\n",
       "      <th>fullname_PVD</th>\n",
       "      <th>has_wifi_PVD</th>\n",
       "      <th>has_plug_PVD</th>\n",
       "      <th>has_adjustable_seats_PVD</th>\n",
       "      <th>has_bicycle_PVD</th>\n",
       "      <th>transport_type_PVD</th>\n",
       "    </tr>\n",
       "  </thead>\n",
       "  <tbody>\n",
       "    <tr>\n",
       "      <th>0</th>\n",
       "      <td>6795025</td>\n",
       "      <td>8385</td>\n",
       "      <td>NaN</td>\n",
       "      <td>NaN</td>\n",
       "      <td>2017-10-13 14:00:00+00</td>\n",
       "      <td>2017-10-13 20:10:00+00</td>\n",
       "      <td>4550</td>\n",
       "      <td>2017-10-01 00:13:31.327+00</td>\n",
       "      <td>NaN</td>\n",
       "      <td>NaN</td>\n",
       "      <td>...</td>\n",
       "      <td>NaN</td>\n",
       "      <td>NaN</td>\n",
       "      <td>NaN</td>\n",
       "      <td>NaN</td>\n",
       "      <td>NaN</td>\n",
       "      <td>NaN</td>\n",
       "      <td>NaN</td>\n",
       "      <td>NaN</td>\n",
       "      <td>NaN</td>\n",
       "      <td>NaN</td>\n",
       "    </tr>\n",
       "    <tr>\n",
       "      <th>1</th>\n",
       "      <td>6795026</td>\n",
       "      <td>9</td>\n",
       "      <td>63.0</td>\n",
       "      <td>1044.0</td>\n",
       "      <td>2017-10-13 13:05:00+00</td>\n",
       "      <td>2017-10-14 06:55:00+00</td>\n",
       "      <td>1450</td>\n",
       "      <td>2017-10-01 00:13:35.773+00</td>\n",
       "      <td>{149,418}</td>\n",
       "      <td>{13}</td>\n",
       "      <td>...</td>\n",
       "      <td>16.0</td>\n",
       "      <td>9.0</td>\n",
       "      <td>NaN</td>\n",
       "      <td>distribusion</td>\n",
       "      <td>Distribusion</td>\n",
       "      <td>False</td>\n",
       "      <td>False</td>\n",
       "      <td>False</td>\n",
       "      <td>False</td>\n",
       "      <td>bus</td>\n",
       "    </tr>\n",
       "    <tr>\n",
       "      <th>2</th>\n",
       "      <td>6795026</td>\n",
       "      <td>9</td>\n",
       "      <td>63.0</td>\n",
       "      <td>1044.0</td>\n",
       "      <td>2017-10-13 13:05:00+00</td>\n",
       "      <td>2017-10-14 06:55:00+00</td>\n",
       "      <td>1450</td>\n",
       "      <td>2017-10-01 00:13:35.773+00</td>\n",
       "      <td>{149,418}</td>\n",
       "      <td>{13}</td>\n",
       "      <td>...</td>\n",
       "      <td>17.0</td>\n",
       "      <td>9.0</td>\n",
       "      <td>31</td>\n",
       "      <td>expressbusMunchen</td>\n",
       "      <td>Expressbus Munchen</td>\n",
       "      <td>False</td>\n",
       "      <td>False</td>\n",
       "      <td>False</td>\n",
       "      <td>False</td>\n",
       "      <td>bus</td>\n",
       "    </tr>\n",
       "    <tr>\n",
       "      <th>3</th>\n",
       "      <td>6795026</td>\n",
       "      <td>9</td>\n",
       "      <td>63.0</td>\n",
       "      <td>1044.0</td>\n",
       "      <td>2017-10-13 13:05:00+00</td>\n",
       "      <td>2017-10-14 06:55:00+00</td>\n",
       "      <td>1450</td>\n",
       "      <td>2017-10-01 00:13:35.773+00</td>\n",
       "      <td>{149,418}</td>\n",
       "      <td>{13}</td>\n",
       "      <td>...</td>\n",
       "      <td>18.0</td>\n",
       "      <td>9.0</td>\n",
       "      <td>33</td>\n",
       "      <td>berlinLinienBus</td>\n",
       "      <td>Berlin Linien Bus</td>\n",
       "      <td>False</td>\n",
       "      <td>False</td>\n",
       "      <td>False</td>\n",
       "      <td>False</td>\n",
       "      <td>bus</td>\n",
       "    </tr>\n",
       "    <tr>\n",
       "      <th>4</th>\n",
       "      <td>6795026</td>\n",
       "      <td>9</td>\n",
       "      <td>63.0</td>\n",
       "      <td>1044.0</td>\n",
       "      <td>2017-10-13 13:05:00+00</td>\n",
       "      <td>2017-10-14 06:55:00+00</td>\n",
       "      <td>1450</td>\n",
       "      <td>2017-10-01 00:13:35.773+00</td>\n",
       "      <td>{149,418}</td>\n",
       "      <td>{13}</td>\n",
       "      <td>...</td>\n",
       "      <td>19.0</td>\n",
       "      <td>9.0</td>\n",
       "      <td>37</td>\n",
       "      <td>ostfrieslandexpress</td>\n",
       "      <td>OstfrieslandExpress</td>\n",
       "      <td>False</td>\n",
       "      <td>False</td>\n",
       "      <td>False</td>\n",
       "      <td>False</td>\n",
       "      <td>bus</td>\n",
       "    </tr>\n",
       "  </tbody>\n",
       "</table>\n",
       "<p>5 rows × 22 columns</p>\n",
       "</div>"
      ],
      "text/plain": [
       "        id  company  o_station  d_station            departure_ts  \\\n",
       "0  6795025     8385        NaN        NaN  2017-10-13 14:00:00+00   \n",
       "1  6795026        9       63.0     1044.0  2017-10-13 13:05:00+00   \n",
       "2  6795026        9       63.0     1044.0  2017-10-13 13:05:00+00   \n",
       "3  6795026        9       63.0     1044.0  2017-10-13 13:05:00+00   \n",
       "4  6795026        9       63.0     1044.0  2017-10-13 13:05:00+00   \n",
       "\n",
       "               arrival_ts  price_in_cents                   search_ts  \\\n",
       "0  2017-10-13 20:10:00+00            4550  2017-10-01 00:13:31.327+00   \n",
       "1  2017-10-14 06:55:00+00            1450  2017-10-01 00:13:35.773+00   \n",
       "2  2017-10-14 06:55:00+00            1450  2017-10-01 00:13:35.773+00   \n",
       "3  2017-10-14 06:55:00+00            1450  2017-10-01 00:13:35.773+00   \n",
       "4  2017-10-14 06:55:00+00            1450  2017-10-01 00:13:35.773+00   \n",
       "\n",
       "  middle_stations other_companies  ...  id_PVD  company_id_PVD  \\\n",
       "0             NaN             NaN  ...     NaN             NaN   \n",
       "1       {149,418}            {13}  ...    16.0             9.0   \n",
       "2       {149,418}            {13}  ...    17.0             9.0   \n",
       "3       {149,418}            {13}  ...    18.0             9.0   \n",
       "4       {149,418}            {13}  ...    19.0             9.0   \n",
       "\n",
       "   provider_id_PVD             name_PVD         fullname_PVD has_wifi_PVD  \\\n",
       "0              NaN                  NaN                  NaN          NaN   \n",
       "1              NaN         distribusion         Distribusion        False   \n",
       "2               31    expressbusMunchen   Expressbus Munchen        False   \n",
       "3               33      berlinLinienBus    Berlin Linien Bus        False   \n",
       "4               37  ostfrieslandexpress  OstfrieslandExpress        False   \n",
       "\n",
       "  has_plug_PVD has_adjustable_seats_PVD has_bicycle_PVD transport_type_PVD  \n",
       "0          NaN                      NaN             NaN                NaN  \n",
       "1        False                    False           False                bus  \n",
       "2        False                    False           False                bus  \n",
       "3        False                    False           False                bus  \n",
       "4        False                    False           False                bus  \n",
       "\n",
       "[5 rows x 22 columns]"
      ]
     },
     "execution_count": 88,
     "metadata": {},
     "output_type": "execute_result"
    }
   ],
   "source": [
    "data_0.head()"
   ]
  },
  {
   "cell_type": "markdown",
   "metadata": {},
   "source": [
    "##### 2 - cities\n",
    "Merge the cities table with the result<br>\n",
    "=> first : merge/join on **o_city**<br>\n",
    "=> second : merge/join on **d_city**"
   ]
  },
  {
   "cell_type": "markdown",
   "metadata": {},
   "source": [
    "$First$"
   ]
  },
  {
   "cell_type": "code",
   "execution_count": 89,
   "metadata": {},
   "outputs": [
    {
     "data": {
      "text/plain": [
       "id               int64\n",
       "local_name      object\n",
       "unique_name     object\n",
       "latitude       float64\n",
       "longitude      float64\n",
       "population     float64\n",
       "dtype: object"
      ]
     },
     "execution_count": 89,
     "metadata": {},
     "output_type": "execute_result"
    }
   ],
   "source": [
    "cities.dtypes"
   ]
  },
  {
   "cell_type": "code",
   "execution_count": 90,
   "metadata": {},
   "outputs": [],
   "source": [
    "# suffix to cities columns\n",
    "# \n",
    "O_cities = cities.copy()\n",
    "O_cities.columns = O_cities.columns.map(lambda x: str(x) + '_OCT')"
   ]
  },
  {
   "cell_type": "code",
   "execution_count": 91,
   "metadata": {},
   "outputs": [
    {
     "data": {
      "text/plain": [
       "Index(['id_OCT', 'local_name_OCT', 'unique_name_OCT', 'latitude_OCT',\n",
       "       'longitude_OCT', 'population_OCT'],\n",
       "      dtype='object')"
      ]
     },
     "execution_count": 91,
     "metadata": {},
     "output_type": "execute_result"
    }
   ],
   "source": [
    "O_cities.columns"
   ]
  },
  {
   "cell_type": "code",
   "execution_count": 92,
   "metadata": {},
   "outputs": [],
   "source": [
    "# merge the first result with cities so we will have informations about the cities \n",
    "data_1 = data_0.merge(O_cities,how='left',left_on='o_city', right_on='id_OCT', suffixes=('','_OCT'))"
   ]
  },
  {
   "cell_type": "markdown",
   "metadata": {},
   "source": [
    "$Second$"
   ]
  },
  {
   "cell_type": "code",
   "execution_count": 93,
   "metadata": {},
   "outputs": [],
   "source": [
    "# add suffixs to cities column \n",
    "D_cities = cities.copy() #make a copy of the table so do not impact the original table cities\n",
    "D_cities.columns = D_cities.columns.map(lambda x: str(x) + '_DCT')"
   ]
  },
  {
   "cell_type": "code",
   "execution_count": 94,
   "metadata": {},
   "outputs": [
    {
     "data": {
      "text/plain": [
       "Index(['id_DCT', 'local_name_DCT', 'unique_name_DCT', 'latitude_DCT',\n",
       "       'longitude_DCT', 'population_DCT'],\n",
       "      dtype='object')"
      ]
     },
     "execution_count": 94,
     "metadata": {},
     "output_type": "execute_result"
    }
   ],
   "source": [
    "D_cities.columns"
   ]
  },
  {
   "cell_type": "code",
   "execution_count": 95,
   "metadata": {},
   "outputs": [],
   "source": [
    "# an other merge to have informations about the destination city\n",
    "data_10 = data_1.merge(D_cities,how='left',left_on='d_city', right_on='id_DCT', suffixes=('','_DCT'))"
   ]
  },
  {
   "cell_type": "code",
   "execution_count": 96,
   "metadata": {},
   "outputs": [
    {
     "data": {
      "text/html": [
       "<div>\n",
       "<style scoped>\n",
       "    .dataframe tbody tr th:only-of-type {\n",
       "        vertical-align: middle;\n",
       "    }\n",
       "\n",
       "    .dataframe tbody tr th {\n",
       "        vertical-align: top;\n",
       "    }\n",
       "\n",
       "    .dataframe thead th {\n",
       "        text-align: right;\n",
       "    }\n",
       "</style>\n",
       "<table border=\"1\" class=\"dataframe\">\n",
       "  <thead>\n",
       "    <tr style=\"text-align: right;\">\n",
       "      <th></th>\n",
       "      <th>id</th>\n",
       "      <th>company</th>\n",
       "      <th>o_station</th>\n",
       "      <th>d_station</th>\n",
       "      <th>departure_ts</th>\n",
       "      <th>arrival_ts</th>\n",
       "      <th>price_in_cents</th>\n",
       "      <th>search_ts</th>\n",
       "      <th>middle_stations</th>\n",
       "      <th>other_companies</th>\n",
       "      <th>...</th>\n",
       "      <th>unique_name_OCT</th>\n",
       "      <th>latitude_OCT</th>\n",
       "      <th>longitude_OCT</th>\n",
       "      <th>population_OCT</th>\n",
       "      <th>id_DCT</th>\n",
       "      <th>local_name_DCT</th>\n",
       "      <th>unique_name_DCT</th>\n",
       "      <th>latitude_DCT</th>\n",
       "      <th>longitude_DCT</th>\n",
       "      <th>population_DCT</th>\n",
       "    </tr>\n",
       "  </thead>\n",
       "  <tbody>\n",
       "    <tr>\n",
       "      <th>0</th>\n",
       "      <td>6795025</td>\n",
       "      <td>8385</td>\n",
       "      <td>NaN</td>\n",
       "      <td>NaN</td>\n",
       "      <td>2017-10-13 14:00:00+00</td>\n",
       "      <td>2017-10-13 20:10:00+00</td>\n",
       "      <td>4550</td>\n",
       "      <td>2017-10-01 00:13:31.327+00</td>\n",
       "      <td>NaN</td>\n",
       "      <td>NaN</td>\n",
       "      <td>...</td>\n",
       "      <td>orleans</td>\n",
       "      <td>47.907018</td>\n",
       "      <td>1.90627</td>\n",
       "      <td>114977.0</td>\n",
       "      <td>542</td>\n",
       "      <td>Montpellier, Occitanie, France</td>\n",
       "      <td>montpellier</td>\n",
       "      <td>43.604452</td>\n",
       "      <td>3.918318</td>\n",
       "      <td>275318.0</td>\n",
       "    </tr>\n",
       "    <tr>\n",
       "      <th>1</th>\n",
       "      <td>6795026</td>\n",
       "      <td>9</td>\n",
       "      <td>63.0</td>\n",
       "      <td>1044.0</td>\n",
       "      <td>2017-10-13 13:05:00+00</td>\n",
       "      <td>2017-10-14 06:55:00+00</td>\n",
       "      <td>1450</td>\n",
       "      <td>2017-10-01 00:13:35.773+00</td>\n",
       "      <td>{149,418}</td>\n",
       "      <td>{13}</td>\n",
       "      <td>...</td>\n",
       "      <td>orleans</td>\n",
       "      <td>47.907018</td>\n",
       "      <td>1.90627</td>\n",
       "      <td>114977.0</td>\n",
       "      <td>542</td>\n",
       "      <td>Montpellier, Occitanie, France</td>\n",
       "      <td>montpellier</td>\n",
       "      <td>43.604452</td>\n",
       "      <td>3.918318</td>\n",
       "      <td>275318.0</td>\n",
       "    </tr>\n",
       "    <tr>\n",
       "      <th>2</th>\n",
       "      <td>6795026</td>\n",
       "      <td>9</td>\n",
       "      <td>63.0</td>\n",
       "      <td>1044.0</td>\n",
       "      <td>2017-10-13 13:05:00+00</td>\n",
       "      <td>2017-10-14 06:55:00+00</td>\n",
       "      <td>1450</td>\n",
       "      <td>2017-10-01 00:13:35.773+00</td>\n",
       "      <td>{149,418}</td>\n",
       "      <td>{13}</td>\n",
       "      <td>...</td>\n",
       "      <td>orleans</td>\n",
       "      <td>47.907018</td>\n",
       "      <td>1.90627</td>\n",
       "      <td>114977.0</td>\n",
       "      <td>542</td>\n",
       "      <td>Montpellier, Occitanie, France</td>\n",
       "      <td>montpellier</td>\n",
       "      <td>43.604452</td>\n",
       "      <td>3.918318</td>\n",
       "      <td>275318.0</td>\n",
       "    </tr>\n",
       "    <tr>\n",
       "      <th>3</th>\n",
       "      <td>6795026</td>\n",
       "      <td>9</td>\n",
       "      <td>63.0</td>\n",
       "      <td>1044.0</td>\n",
       "      <td>2017-10-13 13:05:00+00</td>\n",
       "      <td>2017-10-14 06:55:00+00</td>\n",
       "      <td>1450</td>\n",
       "      <td>2017-10-01 00:13:35.773+00</td>\n",
       "      <td>{149,418}</td>\n",
       "      <td>{13}</td>\n",
       "      <td>...</td>\n",
       "      <td>orleans</td>\n",
       "      <td>47.907018</td>\n",
       "      <td>1.90627</td>\n",
       "      <td>114977.0</td>\n",
       "      <td>542</td>\n",
       "      <td>Montpellier, Occitanie, France</td>\n",
       "      <td>montpellier</td>\n",
       "      <td>43.604452</td>\n",
       "      <td>3.918318</td>\n",
       "      <td>275318.0</td>\n",
       "    </tr>\n",
       "    <tr>\n",
       "      <th>4</th>\n",
       "      <td>6795026</td>\n",
       "      <td>9</td>\n",
       "      <td>63.0</td>\n",
       "      <td>1044.0</td>\n",
       "      <td>2017-10-13 13:05:00+00</td>\n",
       "      <td>2017-10-14 06:55:00+00</td>\n",
       "      <td>1450</td>\n",
       "      <td>2017-10-01 00:13:35.773+00</td>\n",
       "      <td>{149,418}</td>\n",
       "      <td>{13}</td>\n",
       "      <td>...</td>\n",
       "      <td>orleans</td>\n",
       "      <td>47.907018</td>\n",
       "      <td>1.90627</td>\n",
       "      <td>114977.0</td>\n",
       "      <td>542</td>\n",
       "      <td>Montpellier, Occitanie, France</td>\n",
       "      <td>montpellier</td>\n",
       "      <td>43.604452</td>\n",
       "      <td>3.918318</td>\n",
       "      <td>275318.0</td>\n",
       "    </tr>\n",
       "  </tbody>\n",
       "</table>\n",
       "<p>5 rows × 34 columns</p>\n",
       "</div>"
      ],
      "text/plain": [
       "        id  company  o_station  d_station            departure_ts  \\\n",
       "0  6795025     8385        NaN        NaN  2017-10-13 14:00:00+00   \n",
       "1  6795026        9       63.0     1044.0  2017-10-13 13:05:00+00   \n",
       "2  6795026        9       63.0     1044.0  2017-10-13 13:05:00+00   \n",
       "3  6795026        9       63.0     1044.0  2017-10-13 13:05:00+00   \n",
       "4  6795026        9       63.0     1044.0  2017-10-13 13:05:00+00   \n",
       "\n",
       "               arrival_ts  price_in_cents                   search_ts  \\\n",
       "0  2017-10-13 20:10:00+00            4550  2017-10-01 00:13:31.327+00   \n",
       "1  2017-10-14 06:55:00+00            1450  2017-10-01 00:13:35.773+00   \n",
       "2  2017-10-14 06:55:00+00            1450  2017-10-01 00:13:35.773+00   \n",
       "3  2017-10-14 06:55:00+00            1450  2017-10-01 00:13:35.773+00   \n",
       "4  2017-10-14 06:55:00+00            1450  2017-10-01 00:13:35.773+00   \n",
       "\n",
       "  middle_stations other_companies  ...  unique_name_OCT  latitude_OCT  \\\n",
       "0             NaN             NaN  ...          orleans     47.907018   \n",
       "1       {149,418}            {13}  ...          orleans     47.907018   \n",
       "2       {149,418}            {13}  ...          orleans     47.907018   \n",
       "3       {149,418}            {13}  ...          orleans     47.907018   \n",
       "4       {149,418}            {13}  ...          orleans     47.907018   \n",
       "\n",
       "   longitude_OCT  population_OCT id_DCT                  local_name_DCT  \\\n",
       "0        1.90627        114977.0    542  Montpellier, Occitanie, France   \n",
       "1        1.90627        114977.0    542  Montpellier, Occitanie, France   \n",
       "2        1.90627        114977.0    542  Montpellier, Occitanie, France   \n",
       "3        1.90627        114977.0    542  Montpellier, Occitanie, France   \n",
       "4        1.90627        114977.0    542  Montpellier, Occitanie, France   \n",
       "\n",
       "  unique_name_DCT latitude_DCT longitude_DCT population_DCT  \n",
       "0     montpellier    43.604452      3.918318       275318.0  \n",
       "1     montpellier    43.604452      3.918318       275318.0  \n",
       "2     montpellier    43.604452      3.918318       275318.0  \n",
       "3     montpellier    43.604452      3.918318       275318.0  \n",
       "4     montpellier    43.604452      3.918318       275318.0  \n",
       "\n",
       "[5 rows x 34 columns]"
      ]
     },
     "execution_count": 96,
     "metadata": {},
     "output_type": "execute_result"
    }
   ],
   "source": [
    "data_10.head()"
   ]
  },
  {
   "cell_type": "markdown",
   "metadata": {},
   "source": [
    "##### Stations\n",
    "Merge the stations dataframe with the result data above on two parts just like cities"
   ]
  },
  {
   "cell_type": "markdown",
   "metadata": {},
   "source": [
    "$First$<br>\n",
    "=> Merge on **o_station** (destination station)"
   ]
  },
  {
   "cell_type": "code",
   "execution_count": 97,
   "metadata": {},
   "outputs": [],
   "source": [
    "O_stations = stations.copy()\n",
    "O_stations.columns = O_stations.columns.map(lambda x: str(x) + '_OST')"
   ]
  },
  {
   "cell_type": "code",
   "execution_count": 98,
   "metadata": {},
   "outputs": [
    {
     "data": {
      "text/plain": [
       "Index(['id_OST', 'unique_name_OST', 'latitude_OST', 'longitude_OST'], dtype='object')"
      ]
     },
     "execution_count": 98,
     "metadata": {},
     "output_type": "execute_result"
    }
   ],
   "source": [
    "O_stations.columns"
   ]
  },
  {
   "cell_type": "code",
   "execution_count": 99,
   "metadata": {},
   "outputs": [],
   "source": [
    "# suffix _OST refer to (origin sattion)\n",
    "data_2 = data_10.merge(O_stations,how='left',left_on='o_station', right_on='id_OST')"
   ]
  },
  {
   "cell_type": "markdown",
   "metadata": {},
   "source": [
    "$second$<br>\n",
    "=> Merge on **d_station** (destination station)"
   ]
  },
  {
   "cell_type": "code",
   "execution_count": 100,
   "metadata": {},
   "outputs": [],
   "source": [
    "D_stations = stations.copy()\n",
    "D_stations.columns = D_stations.columns.map(lambda x: str(x) + '_DST')"
   ]
  },
  {
   "cell_type": "code",
   "execution_count": 101,
   "metadata": {},
   "outputs": [
    {
     "data": {
      "text/plain": [
       "Index(['id_DST', 'unique_name_DST', 'latitude_DST', 'longitude_DST'], dtype='object')"
      ]
     },
     "execution_count": 101,
     "metadata": {},
     "output_type": "execute_result"
    }
   ],
   "source": [
    "D_stations.columns"
   ]
  },
  {
   "cell_type": "code",
   "execution_count": 102,
   "metadata": {},
   "outputs": [],
   "source": [
    "data_20 = data_2.merge(D_stations,how='left',left_on='d_station', right_on='id_DST')"
   ]
  },
  {
   "cell_type": "markdown",
   "metadata": {},
   "source": [
    "# Result "
   ]
  },
  {
   "cell_type": "code",
   "execution_count": 103,
   "metadata": {},
   "outputs": [
    {
     "data": {
      "text/plain": [
       "(786258, 42)"
      ]
     },
     "execution_count": 103,
     "metadata": {},
     "output_type": "execute_result"
    }
   ],
   "source": [
    "data_20.shape"
   ]
  },
  {
   "cell_type": "markdown",
   "metadata": {},
   "source": [
    "## Calculate duration "
   ]
  },
  {
   "cell_type": "code",
   "execution_count": 104,
   "metadata": {},
   "outputs": [],
   "source": [
    "# String to datetime\n",
    "data_20.departure_ts = pd.to_datetime(data_20['departure_ts'], format=\"%Y-%m-%d %H:%M:%S\")\n",
    "data_20.arrival_ts = pd.to_datetime(data_20['arrival_ts'], format=\"%Y-%m-%d %H:%M:%S\")"
   ]
  },
  {
   "cell_type": "code",
   "execution_count": 105,
   "metadata": {},
   "outputs": [
    {
     "data": {
      "text/plain": [
       "Timedelta('-1 days +17:50:00')"
      ]
     },
     "execution_count": 105,
     "metadata": {},
     "output_type": "execute_result"
    }
   ],
   "source": [
    "data_20.departure_ts[0] -  data_20.arrival_ts[0]"
   ]
  },
  {
   "cell_type": "code",
   "execution_count": 106,
   "metadata": {},
   "outputs": [],
   "source": [
    "data_20['duration'] = data_20.arrival_ts - data_20.departure_ts"
   ]
  },
  {
   "cell_type": "code",
   "execution_count": 107,
   "metadata": {},
   "outputs": [
    {
     "data": {
      "text/plain": [
       "Index(['id', 'company', 'o_station', 'd_station', 'departure_ts', 'arrival_ts',\n",
       "       'price_in_cents', 'search_ts', 'middle_stations', 'other_companies',\n",
       "       'o_city', 'd_city', 'id_PVD', 'company_id_PVD', 'provider_id_PVD',\n",
       "       'name_PVD', 'fullname_PVD', 'has_wifi_PVD', 'has_plug_PVD',\n",
       "       'has_adjustable_seats_PVD', 'has_bicycle_PVD', 'transport_type_PVD',\n",
       "       'id_OCT', 'local_name_OCT', 'unique_name_OCT', 'latitude_OCT',\n",
       "       'longitude_OCT', 'population_OCT', 'id_DCT', 'local_name_DCT',\n",
       "       'unique_name_DCT', 'latitude_DCT', 'longitude_DCT', 'population_DCT',\n",
       "       'id_OST', 'unique_name_OST', 'latitude_OST', 'longitude_OST', 'id_DST',\n",
       "       'unique_name_DST', 'latitude_DST', 'longitude_DST', 'duration'],\n",
       "      dtype='object')"
      ]
     },
     "execution_count": 107,
     "metadata": {},
     "output_type": "execute_result"
    }
   ],
   "source": [
    "data_20.columns"
   ]
  },
  {
   "cell_type": "code",
   "execution_count": null,
   "metadata": {},
   "outputs": [],
   "source": []
  },
  {
   "cell_type": "markdown",
   "metadata": {},
   "source": [
    "# Part I\n",
    "## Price Min, Max, Mean"
   ]
  },
  {
   "cell_type": "code",
   "execution_count": 108,
   "metadata": {},
   "outputs": [],
   "source": [
    "data_ex1 = data_20[['price_in_cents','local_name_OCT','unique_name_OCT','local_name_DCT','unique_name_DCT','unique_name_OST','unique_name_DST','duration',]]"
   ]
  },
  {
   "cell_type": "code",
   "execution_count": 109,
   "metadata": {},
   "outputs": [],
   "source": [
    "# data_20[['local_name_OCT','unique_name_OCT','local_name_DCT','unique_name_DCT','unique_name_OST','unique_name_DST','duration']]"
   ]
  },
  {
   "cell_type": "code",
   "execution_count": 110,
   "metadata": {},
   "outputs": [],
   "source": [
    "price_mean = data_ex1.groupby(['unique_name_OCT','unique_name_DCT'])['price_in_cents'].mean()/100"
   ]
  },
  {
   "cell_type": "code",
   "execution_count": 111,
   "metadata": {},
   "outputs": [],
   "source": [
    "price_min = data_ex1.groupby(['unique_name_OCT','unique_name_DCT'])['price_in_cents'].min()/100"
   ]
  },
  {
   "cell_type": "code",
   "execution_count": 112,
   "metadata": {},
   "outputs": [],
   "source": [
    "price_max = data_ex1.groupby(['unique_name_OCT','unique_name_DCT'])['price_in_cents'].max()/100"
   ]
  },
  {
   "cell_type": "code",
   "execution_count": 113,
   "metadata": {},
   "outputs": [],
   "source": [
    "result_1 = pd.DataFrame(price_mean)"
   ]
  },
  {
   "cell_type": "code",
   "execution_count": 114,
   "metadata": {},
   "outputs": [],
   "source": [
    "result_1['price_min'] = price_min\n",
    "result_1['price_max'] = price_max"
   ]
  },
  {
   "cell_type": "code",
   "execution_count": 115,
   "metadata": {},
   "outputs": [],
   "source": [
    "result_1.columns = [\"AVG_price\",\"price_MIN\",\"price_MAX\"]\n"
   ]
  },
  {
   "cell_type": "code",
   "execution_count": 116,
   "metadata": {},
   "outputs": [
    {
     "data": {
      "text/html": [
       "<div>\n",
       "<style scoped>\n",
       "    .dataframe tbody tr th:only-of-type {\n",
       "        vertical-align: middle;\n",
       "    }\n",
       "\n",
       "    .dataframe tbody tr th {\n",
       "        vertical-align: top;\n",
       "    }\n",
       "\n",
       "    .dataframe thead th {\n",
       "        text-align: right;\n",
       "    }\n",
       "</style>\n",
       "<table border=\"1\" class=\"dataframe\">\n",
       "  <thead>\n",
       "    <tr style=\"text-align: right;\">\n",
       "      <th></th>\n",
       "      <th></th>\n",
       "      <th>AVG_price</th>\n",
       "      <th>price_MIN</th>\n",
       "      <th>price_MAX</th>\n",
       "    </tr>\n",
       "    <tr>\n",
       "      <th>unique_name_OCT</th>\n",
       "      <th>unique_name_DCT</th>\n",
       "      <th></th>\n",
       "      <th></th>\n",
       "      <th></th>\n",
       "    </tr>\n",
       "  </thead>\n",
       "  <tbody>\n",
       "    <tr>\n",
       "      <th>aeroport-paris-vatry-</th>\n",
       "      <th>troyes</th>\n",
       "      <td>53.000000</td>\n",
       "      <td>53.0</td>\n",
       "      <td>53.0</td>\n",
       "    </tr>\n",
       "    <tr>\n",
       "      <th>agde</th>\n",
       "      <th>amsterdam</th>\n",
       "      <td>203.200000</td>\n",
       "      <td>186.0</td>\n",
       "      <td>220.0</td>\n",
       "    </tr>\n",
       "    <tr>\n",
       "      <th rowspan=\"3\" valign=\"top\">agen</th>\n",
       "      <th>dijon</th>\n",
       "      <td>117.550000</td>\n",
       "      <td>98.6</td>\n",
       "      <td>136.5</td>\n",
       "    </tr>\n",
       "    <tr>\n",
       "      <th>marseille</th>\n",
       "      <td>40.426667</td>\n",
       "      <td>20.0</td>\n",
       "      <td>89.2</td>\n",
       "    </tr>\n",
       "    <tr>\n",
       "      <th>marseille-aeroport</th>\n",
       "      <td>38.333333</td>\n",
       "      <td>37.0</td>\n",
       "      <td>40.5</td>\n",
       "    </tr>\n",
       "  </tbody>\n",
       "</table>\n",
       "</div>"
      ],
      "text/plain": [
       "                                           AVG_price  price_MIN  price_MAX\n",
       "unique_name_OCT       unique_name_DCT                                     \n",
       "aeroport-paris-vatry- troyes               53.000000       53.0       53.0\n",
       "agde                  amsterdam           203.200000      186.0      220.0\n",
       "agen                  dijon               117.550000       98.6      136.5\n",
       "                      marseille            40.426667       20.0       89.2\n",
       "                      marseille-aeroport   38.333333       37.0       40.5"
      ]
     },
     "execution_count": 116,
     "metadata": {},
     "output_type": "execute_result"
    }
   ],
   "source": [
    "result_1.head()"
   ]
  },
  {
   "cell_type": "markdown",
   "metadata": {},
   "source": [
    "## Duration max, min, mean"
   ]
  },
  {
   "cell_type": "code",
   "execution_count": 117,
   "metadata": {},
   "outputs": [],
   "source": [
    "min_dur = data_ex1.groupby(['unique_name_OCT','unique_name_DCT'])['duration'].min()\n",
    "max_dur = data_ex1.groupby(['unique_name_OCT','unique_name_DCT'])['duration'].max()\n"
   ]
  },
  {
   "cell_type": "code",
   "execution_count": 118,
   "metadata": {},
   "outputs": [],
   "source": [
    "# add a duration column in seconds to do not have big numbers \n",
    "data_ex1['duration_seconds'] = data_ex1['duration'].dt.total_seconds()\n",
    "\n",
    "# calcul the average duration and transform it to timeDelta format ;) \n",
    "avg_dur = data_ex1.groupby(['unique_name_OCT','unique_name_DCT'])['duration_seconds'].mean()\n",
    "avg_dur = pd.to_timedelta(avg_dur, unit='s')"
   ]
  },
  {
   "cell_type": "code",
   "execution_count": 119,
   "metadata": {},
   "outputs": [],
   "source": [
    "result_1['min_dur'] = min_dur\n",
    "result_1['max_dur'] = max_dur\n",
    "result_1['avg_dur'] = avg_dur"
   ]
  },
  {
   "cell_type": "code",
   "execution_count": null,
   "metadata": {},
   "outputs": [],
   "source": []
  },
  {
   "cell_type": "code",
   "execution_count": 120,
   "metadata": {},
   "outputs": [
    {
     "data": {
      "text/html": [
       "<div>\n",
       "<style scoped>\n",
       "    .dataframe tbody tr th:only-of-type {\n",
       "        vertical-align: middle;\n",
       "    }\n",
       "\n",
       "    .dataframe tbody tr th {\n",
       "        vertical-align: top;\n",
       "    }\n",
       "\n",
       "    .dataframe thead th {\n",
       "        text-align: right;\n",
       "    }\n",
       "</style>\n",
       "<table border=\"1\" class=\"dataframe\">\n",
       "  <thead>\n",
       "    <tr style=\"text-align: right;\">\n",
       "      <th></th>\n",
       "      <th></th>\n",
       "      <th>AVG_price</th>\n",
       "      <th>price_MIN</th>\n",
       "      <th>price_MAX</th>\n",
       "      <th>min_dur</th>\n",
       "      <th>max_dur</th>\n",
       "      <th>avg_dur</th>\n",
       "    </tr>\n",
       "    <tr>\n",
       "      <th>unique_name_OCT</th>\n",
       "      <th>unique_name_DCT</th>\n",
       "      <th></th>\n",
       "      <th></th>\n",
       "      <th></th>\n",
       "      <th></th>\n",
       "      <th></th>\n",
       "      <th></th>\n",
       "    </tr>\n",
       "  </thead>\n",
       "  <tbody>\n",
       "    <tr>\n",
       "      <th>aeroport-paris-vatry-</th>\n",
       "      <th>troyes</th>\n",
       "      <td>53.000000</td>\n",
       "      <td>53.0</td>\n",
       "      <td>53.0</td>\n",
       "      <td>21:55:00</td>\n",
       "      <td>0 days 21:55:00</td>\n",
       "      <td>0 days 21:55:00</td>\n",
       "    </tr>\n",
       "    <tr>\n",
       "      <th>agde</th>\n",
       "      <th>amsterdam</th>\n",
       "      <td>203.200000</td>\n",
       "      <td>186.0</td>\n",
       "      <td>220.0</td>\n",
       "      <td>08:53:00</td>\n",
       "      <td>0 days 15:54:00</td>\n",
       "      <td>0 days 10:18:48</td>\n",
       "    </tr>\n",
       "    <tr>\n",
       "      <th rowspan=\"5\" valign=\"top\">agen</th>\n",
       "      <th>dijon</th>\n",
       "      <td>117.550000</td>\n",
       "      <td>98.6</td>\n",
       "      <td>136.5</td>\n",
       "      <td>12:24:00</td>\n",
       "      <td>0 days 15:01:00</td>\n",
       "      <td>0 days 13:42:30</td>\n",
       "    </tr>\n",
       "    <tr>\n",
       "      <th>marseille</th>\n",
       "      <td>40.426667</td>\n",
       "      <td>20.0</td>\n",
       "      <td>89.2</td>\n",
       "      <td>05:36:00</td>\n",
       "      <td>0 days 12:20:00</td>\n",
       "      <td>0 days 08:17:24</td>\n",
       "    </tr>\n",
       "    <tr>\n",
       "      <th>marseille-aeroport</th>\n",
       "      <td>38.333333</td>\n",
       "      <td>37.0</td>\n",
       "      <td>40.5</td>\n",
       "      <td>05:00:00</td>\n",
       "      <td>0 days 08:00:00</td>\n",
       "      <td>0 days 05:50:00</td>\n",
       "    </tr>\n",
       "    <tr>\n",
       "      <th>paris</th>\n",
       "      <td>27.975000</td>\n",
       "      <td>26.0</td>\n",
       "      <td>31.9</td>\n",
       "      <td>09:40:00</td>\n",
       "      <td>0 days 14:30:00</td>\n",
       "      <td>0 days 12:10:00</td>\n",
       "    </tr>\n",
       "    <tr>\n",
       "      <th>toulouse</th>\n",
       "      <td>8.646269</td>\n",
       "      <td>7.0</td>\n",
       "      <td>24.2</td>\n",
       "      <td>01:00:00</td>\n",
       "      <td>0 days 04:11:00</td>\n",
       "      <td>0 days 01:19:54.626865</td>\n",
       "    </tr>\n",
       "    <tr>\n",
       "      <th rowspan=\"13\" valign=\"top\">aix-en-provence</th>\n",
       "      <th>angers</th>\n",
       "      <td>51.900000</td>\n",
       "      <td>50.9</td>\n",
       "      <td>52.9</td>\n",
       "      <td>14:35:00</td>\n",
       "      <td>0 days 15:10:00</td>\n",
       "      <td>0 days 14:52:30</td>\n",
       "    </tr>\n",
       "    <tr>\n",
       "      <th>annecy</th>\n",
       "      <td>26.300000</td>\n",
       "      <td>20.0</td>\n",
       "      <td>32.8</td>\n",
       "      <td>21:45:00</td>\n",
       "      <td>1 days 02:45:00</td>\n",
       "      <td>1 days 00:09:00</td>\n",
       "    </tr>\n",
       "    <tr>\n",
       "      <th>annemasse</th>\n",
       "      <td>34.875000</td>\n",
       "      <td>31.0</td>\n",
       "      <td>39.5</td>\n",
       "      <td>04:40:00</td>\n",
       "      <td>0 days 05:40:00</td>\n",
       "      <td>0 days 04:57:30</td>\n",
       "    </tr>\n",
       "    <tr>\n",
       "      <th>clermont-ferrand</th>\n",
       "      <td>64.052381</td>\n",
       "      <td>23.9</td>\n",
       "      <td>107.4</td>\n",
       "      <td>04:06:00</td>\n",
       "      <td>1 days 07:40:00</td>\n",
       "      <td>0 days 11:26:25.714285</td>\n",
       "    </tr>\n",
       "    <tr>\n",
       "      <th>geneve</th>\n",
       "      <td>32.390909</td>\n",
       "      <td>26.5</td>\n",
       "      <td>37.0</td>\n",
       "      <td>04:00:00</td>\n",
       "      <td>0 days 20:15:00</td>\n",
       "      <td>0 days 06:25:00</td>\n",
       "    </tr>\n",
       "    <tr>\n",
       "      <th>la-rochelle</th>\n",
       "      <td>43.893939</td>\n",
       "      <td>16.0</td>\n",
       "      <td>71.0</td>\n",
       "      <td>08:00:00</td>\n",
       "      <td>1 days 18:40:00</td>\n",
       "      <td>0 days 15:57:34.545454</td>\n",
       "    </tr>\n",
       "    <tr>\n",
       "      <th>lille</th>\n",
       "      <td>54.402165</td>\n",
       "      <td>48.9</td>\n",
       "      <td>160.0</td>\n",
       "      <td>04:31:00</td>\n",
       "      <td>1 days 14:50:00</td>\n",
       "      <td>0 days 19:24:50.129870</td>\n",
       "    </tr>\n",
       "    <tr>\n",
       "      <th>lyon</th>\n",
       "      <td>25.013298</td>\n",
       "      <td>14.0</td>\n",
       "      <td>65.0</td>\n",
       "      <td>03:00:00</td>\n",
       "      <td>0 days 20:35:00</td>\n",
       "      <td>0 days 03:59:28.085106</td>\n",
       "    </tr>\n",
       "    <tr>\n",
       "      <th>metz</th>\n",
       "      <td>95.580000</td>\n",
       "      <td>27.9</td>\n",
       "      <td>176.0</td>\n",
       "      <td>06:50:00</td>\n",
       "      <td>0 days 11:50:00</td>\n",
       "      <td>0 days 08:51:36</td>\n",
       "    </tr>\n",
       "    <tr>\n",
       "      <th>nice</th>\n",
       "      <td>24.754167</td>\n",
       "      <td>11.0</td>\n",
       "      <td>46.0</td>\n",
       "      <td>01:40:00</td>\n",
       "      <td>0 days 11:01:00</td>\n",
       "      <td>0 days 03:51:37.500000</td>\n",
       "    </tr>\n",
       "    <tr>\n",
       "      <th>paris</th>\n",
       "      <td>27.691281</td>\n",
       "      <td>16.0</td>\n",
       "      <td>149.0</td>\n",
       "      <td>04:03:00</td>\n",
       "      <td>1 days 05:05:00</td>\n",
       "      <td>0 days 11:15:41.011840</td>\n",
       "    </tr>\n",
       "    <tr>\n",
       "      <th>perpignan</th>\n",
       "      <td>20.200000</td>\n",
       "      <td>12.0</td>\n",
       "      <td>25.0</td>\n",
       "      <td>03:50:00</td>\n",
       "      <td>0 days 19:30:00</td>\n",
       "      <td>0 days 12:26:15</td>\n",
       "    </tr>\n",
       "    <tr>\n",
       "      <th>saint-raphael</th>\n",
       "      <td>25.169565</td>\n",
       "      <td>14.0</td>\n",
       "      <td>34.9</td>\n",
       "      <td>02:23:00</td>\n",
       "      <td>1 days 10:04:00</td>\n",
       "      <td>0 days 07:43:05.217391</td>\n",
       "    </tr>\n",
       "  </tbody>\n",
       "</table>\n",
       "</div>"
      ],
      "text/plain": [
       "                                           AVG_price  price_MIN  price_MAX  \\\n",
       "unique_name_OCT       unique_name_DCT                                        \n",
       "aeroport-paris-vatry- troyes               53.000000       53.0       53.0   \n",
       "agde                  amsterdam           203.200000      186.0      220.0   \n",
       "agen                  dijon               117.550000       98.6      136.5   \n",
       "                      marseille            40.426667       20.0       89.2   \n",
       "                      marseille-aeroport   38.333333       37.0       40.5   \n",
       "                      paris                27.975000       26.0       31.9   \n",
       "                      toulouse              8.646269        7.0       24.2   \n",
       "aix-en-provence       angers               51.900000       50.9       52.9   \n",
       "                      annecy               26.300000       20.0       32.8   \n",
       "                      annemasse            34.875000       31.0       39.5   \n",
       "                      clermont-ferrand     64.052381       23.9      107.4   \n",
       "                      geneve               32.390909       26.5       37.0   \n",
       "                      la-rochelle          43.893939       16.0       71.0   \n",
       "                      lille                54.402165       48.9      160.0   \n",
       "                      lyon                 25.013298       14.0       65.0   \n",
       "                      metz                 95.580000       27.9      176.0   \n",
       "                      nice                 24.754167       11.0       46.0   \n",
       "                      paris                27.691281       16.0      149.0   \n",
       "                      perpignan            20.200000       12.0       25.0   \n",
       "                      saint-raphael        25.169565       14.0       34.9   \n",
       "\n",
       "                                          min_dur         max_dur  \\\n",
       "unique_name_OCT       unique_name_DCT                               \n",
       "aeroport-paris-vatry- troyes             21:55:00 0 days 21:55:00   \n",
       "agde                  amsterdam          08:53:00 0 days 15:54:00   \n",
       "agen                  dijon              12:24:00 0 days 15:01:00   \n",
       "                      marseille          05:36:00 0 days 12:20:00   \n",
       "                      marseille-aeroport 05:00:00 0 days 08:00:00   \n",
       "                      paris              09:40:00 0 days 14:30:00   \n",
       "                      toulouse           01:00:00 0 days 04:11:00   \n",
       "aix-en-provence       angers             14:35:00 0 days 15:10:00   \n",
       "                      annecy             21:45:00 1 days 02:45:00   \n",
       "                      annemasse          04:40:00 0 days 05:40:00   \n",
       "                      clermont-ferrand   04:06:00 1 days 07:40:00   \n",
       "                      geneve             04:00:00 0 days 20:15:00   \n",
       "                      la-rochelle        08:00:00 1 days 18:40:00   \n",
       "                      lille              04:31:00 1 days 14:50:00   \n",
       "                      lyon               03:00:00 0 days 20:35:00   \n",
       "                      metz               06:50:00 0 days 11:50:00   \n",
       "                      nice               01:40:00 0 days 11:01:00   \n",
       "                      paris              04:03:00 1 days 05:05:00   \n",
       "                      perpignan          03:50:00 0 days 19:30:00   \n",
       "                      saint-raphael      02:23:00 1 days 10:04:00   \n",
       "\n",
       "                                                        avg_dur  \n",
       "unique_name_OCT       unique_name_DCT                            \n",
       "aeroport-paris-vatry- troyes                    0 days 21:55:00  \n",
       "agde                  amsterdam                 0 days 10:18:48  \n",
       "agen                  dijon                     0 days 13:42:30  \n",
       "                      marseille                 0 days 08:17:24  \n",
       "                      marseille-aeroport        0 days 05:50:00  \n",
       "                      paris                     0 days 12:10:00  \n",
       "                      toulouse           0 days 01:19:54.626865  \n",
       "aix-en-provence       angers                    0 days 14:52:30  \n",
       "                      annecy                    1 days 00:09:00  \n",
       "                      annemasse                 0 days 04:57:30  \n",
       "                      clermont-ferrand   0 days 11:26:25.714285  \n",
       "                      geneve                    0 days 06:25:00  \n",
       "                      la-rochelle        0 days 15:57:34.545454  \n",
       "                      lille              0 days 19:24:50.129870  \n",
       "                      lyon               0 days 03:59:28.085106  \n",
       "                      metz                      0 days 08:51:36  \n",
       "                      nice               0 days 03:51:37.500000  \n",
       "                      paris              0 days 11:15:41.011840  \n",
       "                      perpignan                 0 days 12:26:15  \n",
       "                      saint-raphael      0 days 07:43:05.217391  "
      ]
     },
     "execution_count": 120,
     "metadata": {},
     "output_type": "execute_result"
    }
   ],
   "source": [
    "result_1.head(20)"
   ]
  },
  {
   "cell_type": "markdown",
   "metadata": {},
   "source": [
    "# Part II"
   ]
  },
  {
   "cell_type": "code",
   "execution_count": 121,
   "metadata": {},
   "outputs": [
    {
     "data": {
      "text/plain": [
       "bus           715569\n",
       "train             90\n",
       "carpooling         5\n",
       "Name: transport_type_PVD, dtype: int64"
      ]
     },
     "execution_count": 121,
     "metadata": {},
     "output_type": "execute_result"
    }
   ],
   "source": [
    "data_20.transport_type_PVD.value_counts()"
   ]
  },
  {
   "cell_type": "code",
   "execution_count": 122,
   "metadata": {},
   "outputs": [],
   "source": [
    "data_ex2 = data_20.copy()"
   ]
  },
  {
   "cell_type": "code",
   "execution_count": 123,
   "metadata": {},
   "outputs": [
    {
     "data": {
      "text/plain": [
       "Index(['id', 'unique_name', 'latitude', 'longitude'], dtype='object')"
      ]
     },
     "execution_count": 123,
     "metadata": {},
     "output_type": "execute_result"
    }
   ],
   "source": [
    "stations.columns"
   ]
  },
  {
   "cell_type": "code",
   "execution_count": 124,
   "metadata": {},
   "outputs": [],
   "source": [
    "import numpy as np\n",
    "def haversine_distance(lat1, lon1, lat2, lon2):\n",
    "    #calculate distance using latitude and longitude\n",
    "   r = 6371\n",
    "   phi1 = np.radians(lat1)\n",
    "   phi2 = np.radians(lat2)\n",
    "   delta_phi = np.radians(lat2 - lat1)\n",
    "   delta_lambda = np.radians(lon2 - lon1)\n",
    "   a = np.sin(delta_phi / 2)**2 + np.cos(phi1) * np.cos(phi2) *   np.sin(delta_lambda / 2)**2\n",
    "   res = r * (2 * np.arctan2(np.sqrt(a), np.sqrt(1 - a)))\n",
    "   return np.round(res, 2)"
   ]
  },
  {
   "cell_type": "code",
   "execution_count": 125,
   "metadata": {},
   "outputs": [
    {
     "data": {
      "text/plain": [
       "Index(['id', 'company', 'o_station', 'd_station', 'departure_ts', 'arrival_ts',\n",
       "       'price_in_cents', 'search_ts', 'middle_stations', 'other_companies',\n",
       "       'o_city', 'd_city', 'id_PVD', 'company_id_PVD', 'provider_id_PVD',\n",
       "       'name_PVD', 'fullname_PVD', 'has_wifi_PVD', 'has_plug_PVD',\n",
       "       'has_adjustable_seats_PVD', 'has_bicycle_PVD', 'transport_type_PVD',\n",
       "       'id_OCT', 'local_name_OCT', 'unique_name_OCT', 'latitude_OCT',\n",
       "       'longitude_OCT', 'population_OCT', 'id_DCT', 'local_name_DCT',\n",
       "       'unique_name_DCT', 'latitude_DCT', 'longitude_DCT', 'population_DCT',\n",
       "       'id_OST', 'unique_name_OST', 'latitude_OST', 'longitude_OST', 'id_DST',\n",
       "       'unique_name_DST', 'latitude_DST', 'longitude_DST', 'duration'],\n",
       "      dtype='object')"
      ]
     },
     "execution_count": 125,
     "metadata": {},
     "output_type": "execute_result"
    }
   ],
   "source": [
    "data_ex2.columns"
   ]
  },
  {
   "cell_type": "code",
   "execution_count": 126,
   "metadata": {},
   "outputs": [],
   "source": [
    "# test \n",
    "# haversine_distance(48.952510, 2.291235, 48.971406, 2.337341)"
   ]
  },
  {
   "cell_type": "markdown",
   "metadata": {},
   "source": [
    "### Calculate the distances between stations \n",
    "* Get the distances between stations for every path\n",
    "* Find the intervals and make a new column "
   ]
  },
  {
   "cell_type": "code",
   "execution_count": 127,
   "metadata": {},
   "outputs": [],
   "source": [
    "# calculate distance of paths (between cities or between stations)\n",
    "#\n",
    "data_ex2['distance'] = data_ex2.apply(lambda x: haversine_distance(x.latitude_OST,x.longitude_OST, x.latitude_DST,x.longitude_DST), axis=1)\n"
   ]
  },
  {
   "cell_type": "code",
   "execution_count": 128,
   "metadata": {},
   "outputs": [],
   "source": [
    "# data_ex2"
   ]
  },
  {
   "cell_type": "code",
   "execution_count": 129,
   "metadata": {},
   "outputs": [],
   "source": [
    "def intervale_dist(x):\n",
    "    if (x<=200) : result = \"0-200KM\"\n",
    "    elif (x<=800) : result = \"200-800KM\"\n",
    "    elif (x<=2000) : result = \"800-2000KM\"\n",
    "    else : result = result = \"2000+KM\"\n",
    "        \n",
    "    return result"
   ]
  },
  {
   "cell_type": "code",
   "execution_count": 130,
   "metadata": {},
   "outputs": [
    {
     "data": {
      "text/plain": [
       "'800-2000KM'"
      ]
     },
     "execution_count": 130,
     "metadata": {},
     "output_type": "execute_result"
    }
   ],
   "source": [
    "intervale_dist(1000)"
   ]
  },
  {
   "cell_type": "code",
   "execution_count": 131,
   "metadata": {},
   "outputs": [],
   "source": [
    "data_ex2['distance_inter'] = data_ex2['distance'].map(lambda x: intervale_dist(x))"
   ]
  },
  {
   "cell_type": "code",
   "execution_count": 132,
   "metadata": {},
   "outputs": [],
   "source": [
    "# data_ex2.columns"
   ]
  },
  {
   "cell_type": "markdown",
   "metadata": {},
   "source": [
    "### Application \n",
    "**Avreage price**"
   ]
  },
  {
   "cell_type": "code",
   "execution_count": 133,
   "metadata": {},
   "outputs": [],
   "source": [
    "avg_price = data_ex2.groupby(['transport_type_PVD','distance_inter'])['price_in_cents'].mean()/100"
   ]
  },
  {
   "cell_type": "code",
   "execution_count": 134,
   "metadata": {},
   "outputs": [],
   "source": [
    "# add a duration column in seconds to do not have big numbers \n",
    "data_ex2['duration_seconds'] = data_ex2['duration'].dt.total_seconds()\n",
    "\n",
    "# calcul the average duration and transform it to timeDelta format ;) \n",
    "avg_duration = data_ex2.groupby(['transport_type_PVD','distance_inter'])['duration_seconds'].mean()\n",
    "avg_duration = pd.to_timedelta(avg_duration, unit='s')"
   ]
  },
  {
   "cell_type": "code",
   "execution_count": 135,
   "metadata": {},
   "outputs": [],
   "source": [
    "result_2 = pd.DataFrame(avg_duration)\n",
    "result_2['avg_price'] = avg_price"
   ]
  },
  {
   "cell_type": "code",
   "execution_count": 136,
   "metadata": {},
   "outputs": [],
   "source": [
    "result_2.columns = [\"AVG_Duration\",\"AVG_price\"]"
   ]
  },
  {
   "cell_type": "code",
   "execution_count": 137,
   "metadata": {},
   "outputs": [
    {
     "data": {
      "text/html": [
       "<div>\n",
       "<style scoped>\n",
       "    .dataframe tbody tr th:only-of-type {\n",
       "        vertical-align: middle;\n",
       "    }\n",
       "\n",
       "    .dataframe tbody tr th {\n",
       "        vertical-align: top;\n",
       "    }\n",
       "\n",
       "    .dataframe thead th {\n",
       "        text-align: right;\n",
       "    }\n",
       "</style>\n",
       "<table border=\"1\" class=\"dataframe\">\n",
       "  <thead>\n",
       "    <tr style=\"text-align: right;\">\n",
       "      <th></th>\n",
       "      <th></th>\n",
       "      <th>AVG_Duration</th>\n",
       "      <th>AVG_price</th>\n",
       "    </tr>\n",
       "    <tr>\n",
       "      <th>transport_type_PVD</th>\n",
       "      <th>distance_inter</th>\n",
       "      <th></th>\n",
       "      <th></th>\n",
       "    </tr>\n",
       "  </thead>\n",
       "  <tbody>\n",
       "    <tr>\n",
       "      <th rowspan=\"3\" valign=\"top\">bus</th>\n",
       "      <th>0-200KM</th>\n",
       "      <td>0 days 11:12:43.250883</td>\n",
       "      <td>19.671908</td>\n",
       "    </tr>\n",
       "    <tr>\n",
       "      <th>200-800KM</th>\n",
       "      <td>0 days 14:04:56.186252</td>\n",
       "      <td>33.971450</td>\n",
       "    </tr>\n",
       "    <tr>\n",
       "      <th>800-2000KM</th>\n",
       "      <td>1 days 00:25:07.009345</td>\n",
       "      <td>61.127103</td>\n",
       "    </tr>\n",
       "    <tr>\n",
       "      <th rowspan=\"2\" valign=\"top\">carpooling</th>\n",
       "      <th>0-200KM</th>\n",
       "      <td>0 days 14:15:00</td>\n",
       "      <td>19.900000</td>\n",
       "    </tr>\n",
       "    <tr>\n",
       "      <th>200-800KM</th>\n",
       "      <td>0 days 10:36:15</td>\n",
       "      <td>43.385000</td>\n",
       "    </tr>\n",
       "    <tr>\n",
       "      <th>train</th>\n",
       "      <th>200-800KM</th>\n",
       "      <td>0 days 12:42:13.333333</td>\n",
       "      <td>32.655556</td>\n",
       "    </tr>\n",
       "  </tbody>\n",
       "</table>\n",
       "</div>"
      ],
      "text/plain": [
       "                                            AVG_Duration  AVG_price\n",
       "transport_type_PVD distance_inter                                  \n",
       "bus                0-200KM        0 days 11:12:43.250883  19.671908\n",
       "                   200-800KM      0 days 14:04:56.186252  33.971450\n",
       "                   800-2000KM     1 days 00:25:07.009345  61.127103\n",
       "carpooling         0-200KM               0 days 14:15:00  19.900000\n",
       "                   200-800KM             0 days 10:36:15  43.385000\n",
       "train              200-800KM      0 days 12:42:13.333333  32.655556"
      ]
     },
     "execution_count": 137,
     "metadata": {},
     "output_type": "execute_result"
    }
   ],
   "source": [
    "result_2"
   ]
  },
  {
   "cell_type": "markdown",
   "metadata": {},
   "source": [
    " ## <font color=red>Note !!</font>\n",
    " Please note that I did not manage NaNs, they are excluded by the groupBy operation"
   ]
  },
  {
   "cell_type": "code",
   "execution_count": null,
   "metadata": {},
   "outputs": [],
   "source": []
  }
 ],
 "metadata": {
  "kernelspec": {
   "display_name": "Python 3",
   "language": "python",
   "name": "python3"
  },
  "language_info": {
   "codemirror_mode": {
    "name": "ipython",
    "version": 3
   },
   "file_extension": ".py",
   "mimetype": "text/x-python",
   "name": "python",
   "nbconvert_exporter": "python",
   "pygments_lexer": "ipython3",
   "version": "3.7.3"
  }
 },
 "nbformat": 4,
 "nbformat_minor": 2
}
